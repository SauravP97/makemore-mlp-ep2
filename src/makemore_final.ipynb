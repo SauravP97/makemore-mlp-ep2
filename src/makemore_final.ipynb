{
 "cells": [
  {
   "cell_type": "code",
   "execution_count": 1,
   "metadata": {},
   "outputs": [],
   "source": [
    "import torch\n",
    "import torch.nn.functional as F\n",
    "import matplotlib.pyplot as plt\n",
    "%matplotlib inline"
   ]
  },
  {
   "cell_type": "code",
   "execution_count": 2,
   "metadata": {},
   "outputs": [
    {
     "data": {
      "text/plain": [
       "['emma',\n",
       " 'olivia',\n",
       " 'ava',\n",
       " 'isabella',\n",
       " 'sophia',\n",
       " 'charlotte',\n",
       " 'mia',\n",
       " 'amelia',\n",
       " 'harper',\n",
       " 'evelyn']"
      ]
     },
     "execution_count": 2,
     "metadata": {},
     "output_type": "execute_result"
    }
   ],
   "source": [
    "words = open('../dataset/names.txt', 'r').read().splitlines()\n",
    "words[:10]"
   ]
  },
  {
   "cell_type": "code",
   "execution_count": 3,
   "metadata": {},
   "outputs": [
    {
     "name": "stdout",
     "output_type": "stream",
     "text": [
      "{1: 'a', 2: 'b', 3: 'c', 4: 'd', 5: 'e', 6: 'f', 7: 'g', 8: 'h', 9: 'i', 10: 'j', 11: 'k', 12: 'l', 13: 'm', 14: 'n', 15: 'o', 16: 'p', 17: 'q', 18: 'r', 19: 's', 20: 't', 21: 'u', 22: 'v', 23: 'w', 24: 'x', 25: 'y', 26: 'z', 0: '.'}\n"
     ]
    }
   ],
   "source": [
    "chars = sorted(list(set(''.join(words))))\n",
    "stoi = {s:i+1 for i,s in enumerate(chars)}\n",
    "stoi['.'] = 0\n",
    "\n",
    "itos = {i:s for s,i in stoi.items()}\n",
    "print(itos)"
   ]
  },
  {
   "cell_type": "code",
   "execution_count": 4,
   "metadata": {},
   "outputs": [],
   "source": [
    "# training split, dev/validation split, test split\n",
    "# 80%, 10%, 10%\n",
    "\n",
    "def build_dataset(words):\n",
    "    block_size = 3 # context length\n",
    "    X, Y = [], []\n",
    "\n",
    "    for w in words:\n",
    "        context = [0] * block_size\n",
    "        \n",
    "        for ch in w + '.':\n",
    "            ix = stoi[ch]\n",
    "            X.append(context)\n",
    "            Y.append(ix)\n",
    "            # print(''.join(itos[i] for i in context), '--->', itos[ix])\n",
    "\n",
    "            context = context[1:] + [ix] # crop the first latter and append the one ahead\n",
    "    \n",
    "    X = torch.tensor(X)\n",
    "    Y = torch.tensor(Y)\n",
    "\n",
    "    return X, Y\n",
    "\n",
    "\n",
    "import random\n",
    "random.seed(42)\n",
    "random.shuffle(words)\n",
    "\n",
    "n1 = int(0.8 * len(words))\n",
    "n2 = int(0.9 * len(words))\n",
    "\n",
    "Xtr, Ytr = build_dataset(words[:n1])\n",
    "Xdev, Ydev = build_dataset(words[n1:n2])\n",
    "Xtest, Ytest = build_dataset(words[n2:])\n"
   ]
  },
  {
   "cell_type": "code",
   "execution_count": 5,
   "metadata": {},
   "outputs": [
    {
     "data": {
      "text/plain": [
       "(torch.Size([182625, 3]), torch.Size([22655, 3]), torch.Size([22866, 3]))"
      ]
     },
     "execution_count": 5,
     "metadata": {},
     "output_type": "execute_result"
    }
   ],
   "source": [
    "Xtr.shape, Xdev.shape, Xtest.shape"
   ]
  },
  {
   "cell_type": "code",
   "execution_count": 6,
   "metadata": {},
   "outputs": [
    {
     "data": {
      "text/plain": [
       "11897"
      ]
     },
     "execution_count": 6,
     "metadata": {},
     "output_type": "execute_result"
    }
   ],
   "source": [
    "g = torch.Generator().manual_seed(2147483647) # To generate same random numbers everytime\n",
    "\n",
    "C = torch.randn((27, 10), generator=g)\n",
    "\n",
    "W1 = torch.randn((30, 200), generator=g)\n",
    "b1 = torch.randn(200, generator=g)\n",
    "\n",
    "W2 = torch.randn((200, 27), generator=g)\n",
    "b2 = torch.randn(27, generator=g)\n",
    "\n",
    "parameters = [C, W1, b1, W2, b2]\n",
    "\n",
    "for p in parameters:\n",
    "    p.requires_grad = True\n",
    "\n",
    "sum(p.nelement() for p in parameters)"
   ]
  },
  {
   "cell_type": "code",
   "execution_count": 7,
   "metadata": {},
   "outputs": [],
   "source": [
    "lri = []\n",
    "lossi = []\n",
    "stepi = []"
   ]
  },
  {
   "cell_type": "code",
   "execution_count": null,
   "metadata": {},
   "outputs": [],
   "source": [
    "# Iterations...\n",
    "for i in range(200000):\n",
    "    # minibatch\n",
    "    ix = torch.randint(0, Xtr.shape[0], (100,))\n",
    "\n",
    "    # Forward Pass\n",
    "    emb = C[Xtr[ix]] # shape = (32, 3, 10)\n",
    "    hidden_layer = torch.tanh(emb.view(emb.shape[0], 30) @ W1 + b1) # shape = (32, 200)\n",
    "    logits = hidden_layer @ W2 + b2 # shape = (32, 27)\n",
    "\n",
    "    loss = F.cross_entropy(logits, Ytr[ix])\n",
    "    print(\"Loss: \", loss.item())\n",
    "\n",
    "    # Backward Pass\n",
    "    for p in parameters:\n",
    "        p.grad = None\n",
    "\n",
    "    loss.backward()\n",
    "\n",
    "    # Update\n",
    "    lr = 0.01 if i < 100000 else 0.01\n",
    "    for p in parameters:\n",
    "        p.data += -lr * p.grad\n",
    "    \n",
    "    stepi.append(i)\n",
    "    lossi.append(loss.log10().item())"
   ]
  },
  {
   "cell_type": "code",
   "execution_count": 20,
   "metadata": {},
   "outputs": [
    {
     "data": {
      "text/plain": [
       "600000"
      ]
     },
     "execution_count": 20,
     "metadata": {},
     "output_type": "execute_result"
    },
    {
     "data": {
      "image/png": "[encoded data removed]",
      "text/plain": [
       "<Figure size 640x480 with 1 Axes>"
      ]
     },
     "metadata": {},
     "output_type": "display_data"
    }
   ],
   "source": [
    "plt.plot(stepi, lossi)\n",
    "len(lossi)"
   ]
  },
  {
   "cell_type": "code",
   "execution_count": 24,
   "metadata": {},
   "outputs": [
    {
     "data": {
      "image/png": "[encoded data removed]",
      "text/plain": [
       "<Figure size 800x800 with 1 Axes>"
      ]
     },
     "metadata": {},
     "output_type": "display_data"
    }
   ],
   "source": [
    "# Visualizing our 2d embeddings\n",
    "plt.figure(figsize=(8,8))\n",
    "plt.scatter(C[:, 0].data, C[:, 1].data, s=200)\n",
    "\n",
    "for i in range(C.shape[0]):\n",
    "    plt.text(C[i,0].item(), C[i,1].item(), itos[i], ha='center', va='center', color='white')\n",
    "\n",
    "plt.grid('minor')"
   ]
  },
  {
   "cell_type": "code",
   "execution_count": 21,
   "metadata": {},
   "outputs": [
    {
     "data": {
      "text/plain": [
       "tensor(2.1235, grad_fn=<NllLossBackward0>)"
      ]
     },
     "execution_count": 21,
     "metadata": {},
     "output_type": "execute_result"
    }
   ],
   "source": [
    "# Evaluating dev loss\n",
    "emb = C[Xdev] # shape = (len(Xdev[0]), 3, 2)\n",
    "hidden_layer = torch.tanh(emb.view(emb.shape[0], 30) @ W1 + b1) # shape = (len(Xdev[0]), 100)\n",
    "logits = hidden_layer @ W2 + b2 # shape = (len(Xdev[0]), 27)\n",
    "\n",
    "loss = F.cross_entropy(logits, Ydev)\n",
    "loss"
   ]
  },
  {
   "cell_type": "code",
   "execution_count": 22,
   "metadata": {},
   "outputs": [
    {
     "data": {
      "text/plain": [
       "tensor(2.1193, grad_fn=<NllLossBackward0>)"
      ]
     },
     "execution_count": 22,
     "metadata": {},
     "output_type": "execute_result"
    }
   ],
   "source": [
    "# Evaluating dev loss\n",
    "emb = C[Xtest] # shape = (len(Xtest[0]), 3, 2)\n",
    "hidden_layer = torch.tanh(emb.view(emb.shape[0], 30) @ W1 + b1) # shape = (len(Xdev[0]), 100)\n",
    "logits = hidden_layer @ W2 + b2 # shape = (len(Xdev[0]), 27)\n",
    "\n",
    "loss = F.cross_entropy(logits, Ytest)\n",
    "loss"
   ]
  },
  {
   "cell_type": "code",
   "execution_count": 23,
   "metadata": {},
   "outputs": [
    {
     "data": {
      "text/plain": [
       "['hoda',\n",
       " 'shrist',\n",
       " 'jadeen',\n",
       " 'kale',\n",
       " 'emmeren',\n",
       " 'jir',\n",
       " 'zitia',\n",
       " 'azire',\n",
       " 'sha',\n",
       " 'syr',\n",
       " 'lyo',\n",
       " 'criyah',\n",
       " 'myah',\n",
       " 'jafer',\n",
       " 'layna',\n",
       " 'demileilani',\n",
       " 'lylenn',\n",
       " 'blakia',\n",
       " 'amari',\n",
       " 'fucteejahni']"
      ]
     },
     "execution_count": 23,
     "metadata": {},
     "output_type": "execute_result"
    }
   ],
   "source": [
    "# Sampling words\n",
    "\n",
    "result = []\n",
    "block_size = 3\n",
    "\n",
    "for _ in range(20):\n",
    "    block = [0] * block_size\n",
    "    pred_word = []\n",
    "    while True:\n",
    "        Xt = torch.tensor([block])\n",
    "\n",
    "        # Forward Pass\n",
    "        embed = C[Xt] # shape = (1, 3, 2)\n",
    "        hidden_layer = torch.tanh(embed.view(embed.shape[0], 30) @ W1 + b1) # shape = (32, 100)\n",
    "        logits = hidden_layer @ W2 + b2 # shape = (32, 27)\n",
    "\n",
    "        counts = torch.exp(logits)\n",
    "        prob = counts / counts.sum(1, keepdims=True)\n",
    "\n",
    "        pred_target = torch.multinomial(prob, num_samples=1, replacement=True, generator=g)\n",
    "        pred_character = itos[pred_target.item()]\n",
    "        # print(pred_character)\n",
    "\n",
    "        if pred_character == '.':\n",
    "            break\n",
    "\n",
    "        pred_word.append(pred_character)\n",
    "        block = block[1:] + [pred_target.item()]\n",
    "\n",
    "    result.append(''.join(pred_word))\n",
    "\n",
    "result"
   ]
  }
 ],
 "metadata": {
  "kernelspec": {
   "display_name": "saurav-env",
   "language": "python",
   "name": "python3"
  },
  "language_info": {
   "codemirror_mode": {
    "name": "ipython",
    "version": 3
   },
   "file_extension": ".py",
   "mimetype": "text/x-python",
   "name": "python",
   "nbconvert_exporter": "python",
   "pygments_lexer": "ipython3",
   "version": "3.13.1"
  }
 },
 "nbformat": 4,
 "nbformat_minor": 2
}
