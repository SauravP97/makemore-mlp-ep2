{
 "cells": [
  {
   "cell_type": "code",
   "execution_count": 2,
   "metadata": {},
   "outputs": [],
   "source": [
    "import torch\n",
    "import torch.nn.functional as F\n",
    "import matplotlib.pyplot as plt\n",
    "%matplotlib inline"
   ]
  },
  {
   "cell_type": "code",
   "execution_count": 3,
   "metadata": {},
   "outputs": [
    {
     "data": {
      "text/plain": [
       "['emma',\n",
       " 'olivia',\n",
       " 'ava',\n",
       " 'isabella',\n",
       " 'sophia',\n",
       " 'charlotte',\n",
       " 'mia',\n",
       " 'amelia',\n",
       " 'harper',\n",
       " 'evelyn']"
      ]
     },
     "execution_count": 3,
     "metadata": {},
     "output_type": "execute_result"
    }
   ],
   "source": [
    "words = open('../dataset/names.txt', 'r').read().splitlines()\n",
    "words[:10]"
   ]
  },
  {
   "cell_type": "code",
   "execution_count": 4,
   "metadata": {},
   "outputs": [
    {
     "name": "stdout",
     "output_type": "stream",
     "text": [
      "{1: 'a', 2: 'b', 3: 'c', 4: 'd', 5: 'e', 6: 'f', 7: 'g', 8: 'h', 9: 'i', 10: 'j', 11: 'k', 12: 'l', 13: 'm', 14: 'n', 15: 'o', 16: 'p', 17: 'q', 18: 'r', 19: 's', 20: 't', 21: 'u', 22: 'v', 23: 'w', 24: 'x', 25: 'y', 26: 'z', 0: '.'}\n"
     ]
    }
   ],
   "source": [
    "chars = sorted(list(set(''.join(words))))\n",
    "stoi = {s:i+1 for i,s in enumerate(chars)}\n",
    "stoi['.'] = 0\n",
    "\n",
    "itos = {i:s for s,i in stoi.items()}\n",
    "print(itos)"
   ]
  },
  {
   "cell_type": "code",
   "execution_count": 5,
   "metadata": {},
   "outputs": [],
   "source": [
    "# training split, dev/validation split, test split\n",
    "# 80%, 10%, 10%\n",
    "\n",
    "def build_dataset(words):\n",
    "    block_size = 3 # context length\n",
    "    X, Y = [], []\n",
    "\n",
    "    for w in words:\n",
    "        context = [0] * block_size\n",
    "        \n",
    "        for ch in w + '.':\n",
    "            ix = stoi[ch]\n",
    "            X.append(context)\n",
    "            Y.append(ix)\n",
    "            # print(''.join(itos[i] for i in context), '--->', itos[ix])\n",
    "\n",
    "            context = context[1:] + [ix] # crop the first latter and append the one ahead\n",
    "    \n",
    "    X = torch.tensor(X)\n",
    "    Y = torch.tensor(Y)\n",
    "\n",
    "    return X, Y\n",
    "\n",
    "\n",
    "import random\n",
    "random.seed(42)\n",
    "random.shuffle(words)\n",
    "\n",
    "n1 = int(0.8 * len(words))\n",
    "n2 = int(0.9 * len(words))\n",
    "\n",
    "Xtr, Ytr = build_dataset(words[:n1])\n",
    "Xdev, Ydev = build_dataset(words[n1:n2])\n",
    "Xtest, Ytest = build_dataset(words[n2:])\n"
   ]
  },
  {
   "cell_type": "code",
   "execution_count": 6,
   "metadata": {},
   "outputs": [
    {
     "data": {
      "text/plain": [
       "(torch.Size([182625, 3]), torch.Size([22655, 3]), torch.Size([22866, 3]))"
      ]
     },
     "execution_count": 6,
     "metadata": {},
     "output_type": "execute_result"
    }
   ],
   "source": [
    "Xtr.shape, Xdev.shape, Xtest.shape"
   ]
  },
  {
   "cell_type": "code",
   "execution_count": 48,
   "metadata": {},
   "outputs": [
    {
     "data": {
      "text/plain": [
       "12097"
      ]
     },
     "execution_count": 48,
     "metadata": {},
     "output_type": "execute_result"
    }
   ],
   "source": [
    "g = torch.Generator().manual_seed(2147483647) # To generate same random numbers everytime\n",
    "vocab_size = 27\n",
    "n_embd = 10\n",
    "block_size = 3\n",
    "n_hidden = 200\n",
    "\n",
    "C = torch.randn((vocab_size, n_embd), generator=g)\n",
    "\n",
    "W1 = torch.randn((n_embd * block_size, n_hidden), generator=g) * 0.2\n",
    "# b1 = torch.randn(n_hidden, generator=g) * 0.01\n",
    "\n",
    "W2 = torch.randn((n_hidden, vocab_size), generator=g) * 0.01\n",
    "b2 = torch.randn(vocab_size, generator=g) * 0\n",
    "\n",
    "bngain = torch.ones((1, n_hidden))\n",
    "bnbias = torch.zeros((1, n_hidden))\n",
    "bnmean_running = torch.zeros((1, n_hidden))\n",
    "bnstd_running = torch.zeros((1, n_hidden))\n",
    "\n",
    "parameters = [C, W1, W2, b2, bngain, bnbias]\n",
    "\n",
    "for p in parameters:\n",
    "    p.requires_grad = True\n",
    "\n",
    "sum(p.nelement() for p in parameters)"
   ]
  },
  {
   "cell_type": "code",
   "execution_count": 51,
   "metadata": {},
   "outputs": [],
   "source": [
    "lri = []\n",
    "lossi = []\n",
    "stepi = []"
   ]
  },
  {
   "cell_type": "code",
   "execution_count": 52,
   "metadata": {},
   "outputs": [
    {
     "name": "stdout",
     "output_type": "stream",
     "text": [
      "Iteration 0 Loss:  3.2962024211883545\n",
      "Iteration 10000 Loss:  2.1000280380249023\n",
      "Iteration 20000 Loss:  2.27801513671875\n",
      "Iteration 30000 Loss:  2.22057843208313\n",
      "Iteration 40000 Loss:  2.5379388332366943\n",
      "Iteration 50000 Loss:  2.3478264808654785\n",
      "Iteration 60000 Loss:  2.320499897003174\n",
      "Iteration 70000 Loss:  2.3527944087982178\n",
      "Iteration 80000 Loss:  2.3749783039093018\n",
      "Iteration 90000 Loss:  2.570277690887451\n",
      "Iteration 100000 Loss:  2.321998357772827\n",
      "Iteration 110000 Loss:  1.9485706090927124\n",
      "Iteration 120000 Loss:  2.0786783695220947\n",
      "Iteration 130000 Loss:  1.9665249586105347\n",
      "Iteration 140000 Loss:  1.6663854122161865\n",
      "Iteration 150000 Loss:  2.532874584197998\n",
      "Iteration 160000 Loss:  2.159959554672241\n",
      "Iteration 170000 Loss:  2.134035587310791\n",
      "Iteration 180000 Loss:  1.891106367111206\n",
      "Iteration 190000 Loss:  2.3247036933898926\n"
     ]
    }
   ],
   "source": [
    "max_steps = 200000\n",
    "batch_size = 32\n",
    "\n",
    "# Iterations...\n",
    "for i in range(max_steps):\n",
    "    # minibatch\n",
    "    ix = torch.randint(0, Xtr.shape[0], (batch_size,), generator=g)\n",
    "    Xb, Yb = Xtr[ix], Ytr[ix]\n",
    "\n",
    "    # Forward Pass\n",
    "    # Layer 1: Linear Layer\n",
    "    emb = C[Xb] # shape = (32, 3, 10)\n",
    "    embcat = emb.view(emb.shape[0], -1)\n",
    "    hpreact = embcat @ W1 # + b1\n",
    "\n",
    "    # Layer 2: BatchNorm Layer\n",
    "    bnmeani = hpreact.mean(0, keepdim=True)\n",
    "    bnstdi = hpreact.std(0, keepdim=True)\n",
    "    hpreact  = bngain * (hpreact - bnmeani) / bnstdi + bnbias\n",
    "\n",
    "    with torch.no_grad():\n",
    "        bnmean_running = 0.999 * bnmean_running + 0.001 * bnmeani\n",
    "        bnstd_running = 0.999 * bnstd_running + 0.001 * bnstdi\n",
    "    \n",
    "    # Layer 3: Tanh Layer\n",
    "    hidden_layer = torch.tanh(hpreact) # shape = (32, 200)\n",
    "    logits = hidden_layer @ W2 + b2 # shape = (32, 27)\n",
    "    loss = F.cross_entropy(logits, Yb)\n",
    "    \n",
    "    if i%10000 == 0:\n",
    "        print(f'''Iteration {i} Loss:  {loss.item()}''')\n",
    "\n",
    "    # Backward Pass\n",
    "    for p in parameters:\n",
    "        p.grad = None\n",
    "    loss.backward()\n",
    "\n",
    "    # Update\n",
    "    lr = 0.1 if i < 100000 else 0.01\n",
    "    for p in parameters:\n",
    "        p.data += -lr * p.grad\n",
    "    \n",
    "    stepi.append(i)\n",
    "    lossi.append(loss.log10().item())\n",
    "\n",
    "print(f'''Iteration {i} Loss:  {loss.item()}''')"
   ]
  },
  {
   "cell_type": "code",
   "execution_count": 10,
   "metadata": {},
   "outputs": [
    {
     "data": {
      "text/plain": [
       "<matplotlib.image.AxesImage at 0x1285297f0>"
      ]
     },
     "execution_count": 10,
     "metadata": {},
     "output_type": "execute_result"
    },
    {
     "data": {
      "image/png": "[encoded data removed]",
      "text/plain": [
       "<Figure size 2000x1000 with 1 Axes>"
      ]
     },
     "metadata": {},
     "output_type": "display_data"
    }
   ],
   "source": [
    "#plt.hist(hidden_layer.view(-1).tolist(), 50)\n",
    "plt.figure(figsize=(20,10))\n",
    "plt.imshow(hidden_layer.abs() > 0.99, cmap = 'gray', interpolation='nearest')"
   ]
  },
  {
   "cell_type": "code",
   "execution_count": 53,
   "metadata": {},
   "outputs": [
    {
     "data": {
      "text/plain": [
       "200000"
      ]
     },
     "execution_count": 53,
     "metadata": {},
     "output_type": "execute_result"
    },
    {
     "data": {
      "image/png": "[encoded data removed]",
      "text/plain": [
       "<Figure size 640x480 with 1 Axes>"
      ]
     },
     "metadata": {},
     "output_type": "display_data"
    }
   ],
   "source": [
    "plt.plot(stepi, lossi)\n",
    "len(lossi)"
   ]
  },
  {
   "cell_type": "code",
   "execution_count": 54,
   "metadata": {},
   "outputs": [
    {
     "data": {
      "image/png": "[encoded data removed]",
      "text/plain": [
       "<Figure size 800x800 with 1 Axes>"
      ]
     },
     "metadata": {},
     "output_type": "display_data"
    }
   ],
   "source": [
    "# Visualizing our 2d embeddings\n",
    "plt.figure(figsize=(8,8))\n",
    "plt.scatter(C[:, 0].data, C[:, 1].data, s=200)\n",
    "\n",
    "for i in range(C.shape[0]):\n",
    "    plt.text(C[i,0].item(), C[i,1].item(), itos[i], ha='center', va='center', color='white')\n",
    "\n",
    "plt.grid('minor')"
   ]
  },
  {
   "cell_type": "code",
   "execution_count": 55,
   "metadata": {},
   "outputs": [
    {
     "data": {
      "text/plain": [
       "tensor(2.1067, grad_fn=<NllLossBackward0>)"
      ]
     },
     "execution_count": 55,
     "metadata": {},
     "output_type": "execute_result"
    }
   ],
   "source": [
    "# Evaluating dev loss\n",
    "emb = C[Xdev] # shape = (len(Xdev[0]), 3, 2)\n",
    "hpreact = emb.view(emb.shape[0], 30) @ W1 + b1\n",
    "\n",
    "# Implement Batch Norm\n",
    "hpreact  = bngain * (hpreact - bnmean_running) / bnstd_running + bnbias\n",
    "\n",
    "hidden_layer = torch.tanh(hpreact) # shape = (len(Xdev[0]), 100)\n",
    "logits = hidden_layer @ W2 + b2 # shape = (len(Xdev[0]), 27)\n",
    "\n",
    "loss = F.cross_entropy(logits, Ydev)\n",
    "loss"
   ]
  },
  {
   "cell_type": "code",
   "execution_count": 56,
   "metadata": {},
   "outputs": [
    {
     "data": {
      "text/plain": [
       "tensor(2.1060, grad_fn=<NllLossBackward0>)"
      ]
     },
     "execution_count": 56,
     "metadata": {},
     "output_type": "execute_result"
    }
   ],
   "source": [
    "# Evaluating test loss\n",
    "emb = C[Xtest] # shape = (len(Xtest[0]), 3, 2)\n",
    "hpreact = emb.view(emb.shape[0], 30) @ W1 + b1\n",
    "        \n",
    "# Implement Batch Norm\n",
    "hpreact  = bngain * (hpreact - bnmean_running) / bnstd_running + bnbias\n",
    "\n",
    "hidden_layer = torch.tanh(hpreact) # shape = (len(Xdev[0]), 100)\n",
    "logits = hidden_layer @ W2 + b2 # shape = (len(Xdev[0]), 27)\n",
    "\n",
    "loss = F.cross_entropy(logits, Ytest)\n",
    "loss"
   ]
  },
  {
   "cell_type": "code",
   "execution_count": 58,
   "metadata": {},
   "outputs": [
    {
     "data": {
      "text/plain": [
       "['mumi',\n",
       " 'julisia',\n",
       " 'zayden',\n",
       " 'neve',\n",
       " 'jerrie',\n",
       " 'covon',\n",
       " 'carlanisa',\n",
       " 'agaylen',\n",
       " 'avyn',\n",
       " 'tus',\n",
       " 'damaghi',\n",
       " 'julio',\n",
       " 'railyn',\n",
       " 'kryla',\n",
       " 'raeiry',\n",
       " 'zoaemilaydani',\n",
       " 'mikame',\n",
       " 'tyssine',\n",
       " 'azalin',\n",
       " 'sparnetarya']"
      ]
     },
     "execution_count": 58,
     "metadata": {},
     "output_type": "execute_result"
    }
   ],
   "source": [
    "# Sampling words\n",
    "\n",
    "result = []\n",
    "block_size = 3\n",
    "\n",
    "for _ in range(20):\n",
    "    block = [0] * block_size\n",
    "    pred_word = []\n",
    "    while True:\n",
    "        Xt = torch.tensor([block])\n",
    "\n",
    "        # Forward Pass\n",
    "        embed = C[Xt] # shape = (1, 3, 2)\n",
    "        hpreact = embed.view(embed.shape[0], -1) @ W1\n",
    "        \n",
    "        # # Implement Batch Norm\n",
    "        hpreact = bngain * (hpreact - bnmean_running) / bnstd_running + bnbias\n",
    "\n",
    "        hidden_layer = torch.tanh(hpreact) # shape = (32, 100)\n",
    "        \n",
    "        logits = hidden_layer @ W2 + b2 # shape = (32, 27)\n",
    "\n",
    "        counts = torch.exp(logits)\n",
    "        prob = counts / counts.sum(1, keepdims=True)\n",
    "\n",
    "        pred_target = torch.multinomial(prob, num_samples=1, replacement=True, generator=g)\n",
    "        pred_character = itos[pred_target.item()]\n",
    "        # print(pred_character)\n",
    "\n",
    "        if pred_character == '.':\n",
    "            break\n",
    "\n",
    "        pred_word.append(pred_character)\n",
    "        block = block[1:] + [pred_target.item()]\n",
    "\n",
    "    result.append(''.join(pred_word))\n",
    "\n",
    "result"
   ]
  }
 ],
 "metadata": {
  "kernelspec": {
   "display_name": "saurav-env",
   "language": "python",
   "name": "python3"
  },
  "language_info": {
   "codemirror_mode": {
    "name": "ipython",
    "version": 3
   },
   "file_extension": ".py",
   "mimetype": "text/x-python",
   "name": "python",
   "nbconvert_exporter": "python",
   "pygments_lexer": "ipython3",
   "version": "3.13.1"
  }
 },
 "nbformat": 4,
 "nbformat_minor": 2
}
