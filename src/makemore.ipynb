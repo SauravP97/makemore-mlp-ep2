{
 "cells": [
  {
   "cell_type": "code",
   "execution_count": 69,
   "metadata": {},
   "outputs": [],
   "source": [
    "import torch\n",
    "import torch.nn.functional as F\n",
    "import matplotlib.pyplot as plt\n",
    "%matplotlib inline"
   ]
  },
  {
   "cell_type": "code",
   "execution_count": 5,
   "metadata": {},
   "outputs": [
    {
     "data": {
      "text/plain": [
       "['emma',\n",
       " 'olivia',\n",
       " 'ava',\n",
       " 'isabella',\n",
       " 'sophia',\n",
       " 'charlotte',\n",
       " 'mia',\n",
       " 'amelia',\n",
       " 'harper',\n",
       " 'evelyn']"
      ]
     },
     "execution_count": 5,
     "metadata": {},
     "output_type": "execute_result"
    }
   ],
   "source": [
    "words = open('../dataset/names.txt', 'r').read().splitlines()\n",
    "words[:10]"
   ]
  },
  {
   "cell_type": "code",
   "execution_count": 10,
   "metadata": {},
   "outputs": [
    {
     "name": "stdout",
     "output_type": "stream",
     "text": [
      "{1: 'a', 2: 'b', 3: 'c', 4: 'd', 5: 'e', 6: 'f', 7: 'g', 8: 'h', 9: 'i', 10: 'j', 11: 'k', 12: 'l', 13: 'm', 14: 'n', 15: 'o', 16: 'p', 17: 'q', 18: 'r', 19: 's', 20: 't', 21: 'u', 22: 'v', 23: 'w', 24: 'x', 25: 'y', 26: 'z', 0: '.'}\n"
     ]
    }
   ],
   "source": [
    "chars = sorted(list(set(''.join(words))))\n",
    "stoi = {s:i+1 for i,s in enumerate(chars)}\n",
    "stoi['.'] = 0\n",
    "\n",
    "itos = {i:s for s,i in stoi.items()}\n",
    "print(itos)"
   ]
  },
  {
   "cell_type": "code",
   "execution_count": 15,
   "metadata": {},
   "outputs": [
    {
     "name": "stdout",
     "output_type": "stream",
     "text": [
      "emma\n",
      "... ---> e\n",
      "..e ---> m\n",
      ".em ---> m\n",
      "emm ---> a\n",
      "mma ---> .\n",
      "olivia\n",
      "... ---> o\n",
      "..o ---> l\n",
      ".ol ---> i\n",
      "oli ---> v\n",
      "liv ---> i\n",
      "ivi ---> a\n",
      "via ---> .\n",
      "ava\n",
      "... ---> a\n",
      "..a ---> v\n",
      ".av ---> a\n",
      "ava ---> .\n",
      "isabella\n",
      "... ---> i\n",
      "..i ---> s\n",
      ".is ---> a\n",
      "isa ---> b\n",
      "sab ---> e\n",
      "abe ---> l\n",
      "bel ---> l\n",
      "ell ---> a\n",
      "lla ---> .\n",
      "sophia\n",
      "... ---> s\n",
      "..s ---> o\n",
      ".so ---> p\n",
      "sop ---> h\n",
      "oph ---> i\n",
      "phi ---> a\n",
      "hia ---> .\n"
     ]
    }
   ],
   "source": [
    "block_size = 3 # context length\n",
    "X, Y = [], []\n",
    "\n",
    "for w in words[:5]:\n",
    "    print(w)\n",
    "    context = [0] * block_size\n",
    "    \n",
    "    for ch in w + '.':\n",
    "        ix = stoi[ch]\n",
    "        X.append(context)\n",
    "        Y.append(ix)\n",
    "        print(''.join(itos[i] for i in context), '--->', itos[ix])\n",
    "\n",
    "        context = context[1:] + [ix] # crop the first latter and append the one ahead\n",
    "\n",
    "X = torch.tensor(X)\n",
    "Y = torch.tensor(Y)"
   ]
  },
  {
   "cell_type": "code",
   "execution_count": 17,
   "metadata": {},
   "outputs": [
    {
     "data": {
      "text/plain": [
       "(torch.Size([32, 3]), torch.Size([32]), torch.int64, torch.int64)"
      ]
     },
     "execution_count": 17,
     "metadata": {},
     "output_type": "execute_result"
    }
   ],
   "source": [
    "X.shape, Y.shape, X.dtype, Y.dtype"
   ]
  },
  {
   "cell_type": "code",
   "execution_count": 20,
   "metadata": {},
   "outputs": [
    {
     "data": {
      "text/plain": [
       "tensor([[ 0,  0,  0],\n",
       "        [ 0,  0,  5],\n",
       "        [ 0,  5, 13],\n",
       "        [ 5, 13, 13],\n",
       "        [13, 13,  1],\n",
       "        [ 0,  0,  0],\n",
       "        [ 0,  0, 15],\n",
       "        [ 0, 15, 12],\n",
       "        [15, 12,  9],\n",
       "        [12,  9, 22],\n",
       "        [ 9, 22,  9],\n",
       "        [22,  9,  1],\n",
       "        [ 0,  0,  0],\n",
       "        [ 0,  0,  1],\n",
       "        [ 0,  1, 22],\n",
       "        [ 1, 22,  1],\n",
       "        [ 0,  0,  0],\n",
       "        [ 0,  0,  9],\n",
       "        [ 0,  9, 19],\n",
       "        [ 9, 19,  1],\n",
       "        [19,  1,  2],\n",
       "        [ 1,  2,  5],\n",
       "        [ 2,  5, 12],\n",
       "        [ 5, 12, 12],\n",
       "        [12, 12,  1],\n",
       "        [ 0,  0,  0],\n",
       "        [ 0,  0, 19],\n",
       "        [ 0, 19, 15],\n",
       "        [19, 15, 16],\n",
       "        [15, 16,  8],\n",
       "        [16,  8,  9],\n",
       "        [ 8,  9,  1]])"
      ]
     },
     "execution_count": 20,
     "metadata": {},
     "output_type": "execute_result"
    }
   ],
   "source": [
    "X"
   ]
  },
  {
   "cell_type": "code",
   "execution_count": 22,
   "metadata": {},
   "outputs": [
    {
     "data": {
      "text/plain": [
       "tensor([[0.3229, 0.7459],\n",
       "        [0.3204, 0.6386],\n",
       "        [0.7159, 0.8892],\n",
       "        [0.4156, 0.7040],\n",
       "        [0.1160, 0.0299],\n",
       "        [0.8790, 0.1160],\n",
       "        [0.6731, 0.6735],\n",
       "        [0.6363, 0.6873],\n",
       "        [0.6101, 0.0808],\n",
       "        [0.1732, 0.2006],\n",
       "        [0.0301, 0.8121],\n",
       "        [0.9094, 0.5033],\n",
       "        [0.3327, 0.8181],\n",
       "        [0.3731, 0.8226],\n",
       "        [0.2618, 0.3873],\n",
       "        [0.7068, 0.2900],\n",
       "        [0.2119, 0.2677],\n",
       "        [0.5422, 0.5946],\n",
       "        [0.4434, 0.9632],\n",
       "        [0.9237, 0.9008],\n",
       "        [0.1595, 0.8789],\n",
       "        [0.0381, 0.0772],\n",
       "        [0.2151, 0.0597],\n",
       "        [0.6294, 0.0514],\n",
       "        [0.1176, 0.2957],\n",
       "        [0.4325, 0.8694],\n",
       "        [0.9811, 0.4930]])"
      ]
     },
     "execution_count": 22,
     "metadata": {},
     "output_type": "execute_result"
    }
   ],
   "source": [
    "C = torch.rand((27, 2))\n",
    "C"
   ]
  },
  {
   "cell_type": "code",
   "execution_count": 35,
   "metadata": {},
   "outputs": [
    {
     "data": {
      "text/plain": [
       "tensor([[0.8790, 0.1160],\n",
       "        [0.6731, 0.6735],\n",
       "        [0.6363, 0.6873],\n",
       "        [0.6363, 0.6873],\n",
       "        [0.6363, 0.6873]])"
      ]
     },
     "execution_count": 35,
     "metadata": {},
     "output_type": "execute_result"
    }
   ],
   "source": [
    "C[torch.tensor([5, 6, 7, 7, 7])]"
   ]
  },
  {
   "cell_type": "code",
   "execution_count": 45,
   "metadata": {},
   "outputs": [
    {
     "name": "stdout",
     "output_type": "stream",
     "text": [
      "torch.Size([32, 3, 2])\n"
     ]
    },
    {
     "data": {
      "text/plain": [
       "tensor([[[0.3229, 0.7459],\n",
       "         [0.3229, 0.7459],\n",
       "         [0.3229, 0.7459]],\n",
       "\n",
       "        [[0.3229, 0.7459],\n",
       "         [0.3229, 0.7459],\n",
       "         [0.8790, 0.1160]],\n",
       "\n",
       "        [[0.3229, 0.7459],\n",
       "         [0.8790, 0.1160],\n",
       "         [0.3731, 0.8226]],\n",
       "\n",
       "        [[0.8790, 0.1160],\n",
       "         [0.3731, 0.8226],\n",
       "         [0.3731, 0.8226]],\n",
       "\n",
       "        [[0.3731, 0.8226],\n",
       "         [0.3731, 0.8226],\n",
       "         [0.3204, 0.6386]],\n",
       "\n",
       "        [[0.3229, 0.7459],\n",
       "         [0.3229, 0.7459],\n",
       "         [0.3229, 0.7459]],\n",
       "\n",
       "        [[0.3229, 0.7459],\n",
       "         [0.3229, 0.7459],\n",
       "         [0.7068, 0.2900]],\n",
       "\n",
       "        [[0.3229, 0.7459],\n",
       "         [0.7068, 0.2900],\n",
       "         [0.3327, 0.8181]],\n",
       "\n",
       "        [[0.7068, 0.2900],\n",
       "         [0.3327, 0.8181],\n",
       "         [0.1732, 0.2006]],\n",
       "\n",
       "        [[0.3327, 0.8181],\n",
       "         [0.1732, 0.2006],\n",
       "         [0.2151, 0.0597]],\n",
       "\n",
       "        [[0.1732, 0.2006],\n",
       "         [0.2151, 0.0597],\n",
       "         [0.1732, 0.2006]],\n",
       "\n",
       "        [[0.2151, 0.0597],\n",
       "         [0.1732, 0.2006],\n",
       "         [0.3204, 0.6386]],\n",
       "\n",
       "        [[0.3229, 0.7459],\n",
       "         [0.3229, 0.7459],\n",
       "         [0.3229, 0.7459]],\n",
       "\n",
       "        [[0.3229, 0.7459],\n",
       "         [0.3229, 0.7459],\n",
       "         [0.3204, 0.6386]],\n",
       "\n",
       "        [[0.3229, 0.7459],\n",
       "         [0.3204, 0.6386],\n",
       "         [0.2151, 0.0597]],\n",
       "\n",
       "        [[0.3204, 0.6386],\n",
       "         [0.2151, 0.0597],\n",
       "         [0.3204, 0.6386]],\n",
       "\n",
       "        [[0.3229, 0.7459],\n",
       "         [0.3229, 0.7459],\n",
       "         [0.3229, 0.7459]],\n",
       "\n",
       "        [[0.3229, 0.7459],\n",
       "         [0.3229, 0.7459],\n",
       "         [0.1732, 0.2006]],\n",
       "\n",
       "        [[0.3229, 0.7459],\n",
       "         [0.1732, 0.2006],\n",
       "         [0.9237, 0.9008]],\n",
       "\n",
       "        [[0.1732, 0.2006],\n",
       "         [0.9237, 0.9008],\n",
       "         [0.3204, 0.6386]],\n",
       "\n",
       "        [[0.9237, 0.9008],\n",
       "         [0.3204, 0.6386],\n",
       "         [0.7159, 0.8892]],\n",
       "\n",
       "        [[0.3204, 0.6386],\n",
       "         [0.7159, 0.8892],\n",
       "         [0.8790, 0.1160]],\n",
       "\n",
       "        [[0.7159, 0.8892],\n",
       "         [0.8790, 0.1160],\n",
       "         [0.3327, 0.8181]],\n",
       "\n",
       "        [[0.8790, 0.1160],\n",
       "         [0.3327, 0.8181],\n",
       "         [0.3327, 0.8181]],\n",
       "\n",
       "        [[0.3327, 0.8181],\n",
       "         [0.3327, 0.8181],\n",
       "         [0.3204, 0.6386]],\n",
       "\n",
       "        [[0.3229, 0.7459],\n",
       "         [0.3229, 0.7459],\n",
       "         [0.3229, 0.7459]],\n",
       "\n",
       "        [[0.3229, 0.7459],\n",
       "         [0.3229, 0.7459],\n",
       "         [0.9237, 0.9008]],\n",
       "\n",
       "        [[0.3229, 0.7459],\n",
       "         [0.9237, 0.9008],\n",
       "         [0.7068, 0.2900]],\n",
       "\n",
       "        [[0.9237, 0.9008],\n",
       "         [0.7068, 0.2900],\n",
       "         [0.2119, 0.2677]],\n",
       "\n",
       "        [[0.7068, 0.2900],\n",
       "         [0.2119, 0.2677],\n",
       "         [0.6101, 0.0808]],\n",
       "\n",
       "        [[0.2119, 0.2677],\n",
       "         [0.6101, 0.0808],\n",
       "         [0.1732, 0.2006]],\n",
       "\n",
       "        [[0.6101, 0.0808],\n",
       "         [0.1732, 0.2006],\n",
       "         [0.3204, 0.6386]]])"
      ]
     },
     "execution_count": 45,
     "metadata": {},
     "output_type": "execute_result"
    }
   ],
   "source": [
    "print(C[X].shape)\n",
    "C[X]"
   ]
  },
  {
   "cell_type": "code",
   "execution_count": 43,
   "metadata": {},
   "outputs": [
    {
     "name": "stdout",
     "output_type": "stream",
     "text": [
      "tensor(15)\n"
     ]
    },
    {
     "data": {
      "text/plain": [
       "tensor([True, True])"
      ]
     },
     "execution_count": 43,
     "metadata": {},
     "output_type": "execute_result"
    }
   ],
   "source": [
    "print(X[6, 2])\n",
    "C[X][6, 2] == C[15]"
   ]
  },
  {
   "cell_type": "code",
   "execution_count": 46,
   "metadata": {},
   "outputs": [
    {
     "data": {
      "text/plain": [
       "torch.Size([32, 3, 2])"
      ]
     },
     "execution_count": 46,
     "metadata": {},
     "output_type": "execute_result"
    }
   ],
   "source": [
    "emb = C[X]\n",
    "emb.shape"
   ]
  },
  {
   "cell_type": "code",
   "execution_count": 48,
   "metadata": {},
   "outputs": [
    {
     "data": {
      "text/plain": [
       "tensor([[0.3229, 0.7459],\n",
       "        [0.8790, 0.1160],\n",
       "        [0.3731, 0.8226],\n",
       "        [0.3731, 0.8226],\n",
       "        [0.3204, 0.6386],\n",
       "        [0.3229, 0.7459],\n",
       "        [0.7068, 0.2900],\n",
       "        [0.3327, 0.8181],\n",
       "        [0.1732, 0.2006],\n",
       "        [0.2151, 0.0597],\n",
       "        [0.1732, 0.2006],\n",
       "        [0.3204, 0.6386],\n",
       "        [0.3229, 0.7459],\n",
       "        [0.3204, 0.6386],\n",
       "        [0.2151, 0.0597],\n",
       "        [0.3204, 0.6386],\n",
       "        [0.3229, 0.7459],\n",
       "        [0.1732, 0.2006],\n",
       "        [0.9237, 0.9008],\n",
       "        [0.3204, 0.6386],\n",
       "        [0.7159, 0.8892],\n",
       "        [0.8790, 0.1160],\n",
       "        [0.3327, 0.8181],\n",
       "        [0.3327, 0.8181],\n",
       "        [0.3204, 0.6386],\n",
       "        [0.3229, 0.7459],\n",
       "        [0.9237, 0.9008],\n",
       "        [0.7068, 0.2900],\n",
       "        [0.2119, 0.2677],\n",
       "        [0.6101, 0.0808],\n",
       "        [0.1732, 0.2006],\n",
       "        [0.3204, 0.6386]])"
      ]
     },
     "execution_count": 48,
     "metadata": {},
     "output_type": "execute_result"
    }
   ],
   "source": [
    "# Get the embeddings of the first character in X\n",
    "emb[:, 0, :]\n",
    "\n",
    "# Get the embeddings of the second character in X\n",
    "emb[:, 1, :]\n",
    "\n",
    "# Get the embeddings of the third character in X\n",
    "emb[:, 2, :]\n"
   ]
  },
  {
   "cell_type": "code",
   "execution_count": 52,
   "metadata": {},
   "outputs": [
    {
     "data": {
      "text/plain": [
       "torch.Size([32, 6])"
      ]
     },
     "execution_count": 52,
     "metadata": {},
     "output_type": "execute_result"
    }
   ],
   "source": [
    "torch.cat([emb[:, 0, :], emb[:, 1, :], emb[:, 2, :]], 1).shape"
   ]
  },
  {
   "cell_type": "code",
   "execution_count": 53,
   "metadata": {},
   "outputs": [
    {
     "data": {
      "text/plain": [
       "torch.Size([32, 6])"
      ]
     },
     "execution_count": 53,
     "metadata": {},
     "output_type": "execute_result"
    }
   ],
   "source": [
    "# An equivalent code\n",
    "torch.cat(torch.unbind(emb, 1), 1).shape"
   ]
  },
  {
   "cell_type": "code",
   "execution_count": 54,
   "metadata": {},
   "outputs": [
    {
     "data": {
      "text/plain": [
       "tensor([[0.3229, 0.7459, 0.3229, 0.7459, 0.3229, 0.7459],\n",
       "        [0.3229, 0.7459, 0.3229, 0.7459, 0.8790, 0.1160],\n",
       "        [0.3229, 0.7459, 0.8790, 0.1160, 0.3731, 0.8226],\n",
       "        [0.8790, 0.1160, 0.3731, 0.8226, 0.3731, 0.8226],\n",
       "        [0.3731, 0.8226, 0.3731, 0.8226, 0.3204, 0.6386],\n",
       "        [0.3229, 0.7459, 0.3229, 0.7459, 0.3229, 0.7459],\n",
       "        [0.3229, 0.7459, 0.3229, 0.7459, 0.7068, 0.2900],\n",
       "        [0.3229, 0.7459, 0.7068, 0.2900, 0.3327, 0.8181],\n",
       "        [0.7068, 0.2900, 0.3327, 0.8181, 0.1732, 0.2006],\n",
       "        [0.3327, 0.8181, 0.1732, 0.2006, 0.2151, 0.0597],\n",
       "        [0.1732, 0.2006, 0.2151, 0.0597, 0.1732, 0.2006],\n",
       "        [0.2151, 0.0597, 0.1732, 0.2006, 0.3204, 0.6386],\n",
       "        [0.3229, 0.7459, 0.3229, 0.7459, 0.3229, 0.7459],\n",
       "        [0.3229, 0.7459, 0.3229, 0.7459, 0.3204, 0.6386],\n",
       "        [0.3229, 0.7459, 0.3204, 0.6386, 0.2151, 0.0597],\n",
       "        [0.3204, 0.6386, 0.2151, 0.0597, 0.3204, 0.6386],\n",
       "        [0.3229, 0.7459, 0.3229, 0.7459, 0.3229, 0.7459],\n",
       "        [0.3229, 0.7459, 0.3229, 0.7459, 0.1732, 0.2006],\n",
       "        [0.3229, 0.7459, 0.1732, 0.2006, 0.9237, 0.9008],\n",
       "        [0.1732, 0.2006, 0.9237, 0.9008, 0.3204, 0.6386],\n",
       "        [0.9237, 0.9008, 0.3204, 0.6386, 0.7159, 0.8892],\n",
       "        [0.3204, 0.6386, 0.7159, 0.8892, 0.8790, 0.1160],\n",
       "        [0.7159, 0.8892, 0.8790, 0.1160, 0.3327, 0.8181],\n",
       "        [0.8790, 0.1160, 0.3327, 0.8181, 0.3327, 0.8181],\n",
       "        [0.3327, 0.8181, 0.3327, 0.8181, 0.3204, 0.6386],\n",
       "        [0.3229, 0.7459, 0.3229, 0.7459, 0.3229, 0.7459],\n",
       "        [0.3229, 0.7459, 0.3229, 0.7459, 0.9237, 0.9008],\n",
       "        [0.3229, 0.7459, 0.9237, 0.9008, 0.7068, 0.2900],\n",
       "        [0.9237, 0.9008, 0.7068, 0.2900, 0.2119, 0.2677],\n",
       "        [0.7068, 0.2900, 0.2119, 0.2677, 0.6101, 0.0808],\n",
       "        [0.2119, 0.2677, 0.6101, 0.0808, 0.1732, 0.2006],\n",
       "        [0.6101, 0.0808, 0.1732, 0.2006, 0.3204, 0.6386]])"
      ]
     },
     "execution_count": 54,
     "metadata": {},
     "output_type": "execute_result"
    }
   ],
   "source": [
    "# Another equivalent code\n",
    "emb.view(32, 6)"
   ]
  },
  {
   "cell_type": "code",
   "execution_count": 55,
   "metadata": {},
   "outputs": [],
   "source": [
    "W1 = torch.randn((6, 100))\n",
    "b1 = torch.randn(100)"
   ]
  },
  {
   "cell_type": "code",
   "execution_count": null,
   "metadata": {},
   "outputs": [
    {
     "name": "stdout",
     "output_type": "stream",
     "text": [
      "torch.Size([32, 100])\n"
     ]
    },
    {
     "data": {
      "text/plain": [
       "tensor([[-0.8710, -0.8080, -0.9792,  ...,  0.7530, -0.9335,  0.6998],\n",
       "        [-0.8634, -0.9508, -0.9008,  ...,  0.9861, -0.9760,  0.0939],\n",
       "        [-0.9677, -0.5306, -0.9728,  ...,  0.0239, -0.9905,  0.9492],\n",
       "        ...,\n",
       "        [-0.7245, -0.8924, -0.6479,  ...,  0.9288, -0.9953,  0.4465],\n",
       "        [-0.9413, -0.5811, -0.8762,  ...,  0.1292, -0.9773,  0.6158],\n",
       "        [-0.6318, -0.7171, -0.7648,  ...,  0.5463, -0.9919,  0.3958]])"
      ]
     },
     "execution_count": 61,
     "metadata": {},
     "output_type": "execute_result"
    }
   ],
   "source": [
    "# Building the hidden layer\n",
    "layer = emb.view(emb.shape[0], 6) @ W1 + b1\n",
    "h = torch.tanh(layer)\n",
    "print(h.shape)\n",
    "h"
   ]
  },
  {
   "cell_type": "code",
   "execution_count": 62,
   "metadata": {},
   "outputs": [],
   "source": [
    "# Building the final layer\n",
    "W2 = torch.randn((100, 27))\n",
    "b2 = torch.randn(27)\n",
    "\n",
    "logits = h @ W2 + b2"
   ]
  },
  {
   "cell_type": "code",
   "execution_count": 63,
   "metadata": {},
   "outputs": [
    {
     "data": {
      "text/plain": [
       "torch.Size([32, 27])"
      ]
     },
     "execution_count": 63,
     "metadata": {},
     "output_type": "execute_result"
    }
   ],
   "source": [
    "logits.shape"
   ]
  },
  {
   "cell_type": "code",
   "execution_count": 64,
   "metadata": {},
   "outputs": [],
   "source": [
    "# Fake counts\n",
    "counts = logits.exp()\n",
    "prob = counts / counts.sum(1, keepdims=True)"
   ]
  },
  {
   "cell_type": "code",
   "execution_count": 65,
   "metadata": {},
   "outputs": [
    {
     "data": {
      "text/plain": [
       "torch.Size([32, 27])"
      ]
     },
     "execution_count": 65,
     "metadata": {},
     "output_type": "execute_result"
    }
   ],
   "source": [
    "prob.shape"
   ]
  },
  {
   "cell_type": "code",
   "execution_count": 120,
   "metadata": {},
   "outputs": [],
   "source": [
    "block_size = 3 # context length\n",
    "X, Y = [], []\n",
    "\n",
    "for w in words:\n",
    "    context = [0] * block_size\n",
    "    \n",
    "    for ch in w + '.':\n",
    "        ix = stoi[ch]\n",
    "        X.append(context)\n",
    "        Y.append(ix)\n",
    "        # print(''.join(itos[i] for i in context), '--->', itos[ix])\n",
    "\n",
    "        context = context[1:] + [ix] # crop the first latter and append the one ahead\n",
    "\n",
    "X = torch.tensor(X)\n",
    "Y = torch.tensor(Y)"
   ]
  },
  {
   "cell_type": "code",
   "execution_count": 122,
   "metadata": {},
   "outputs": [
    {
     "data": {
      "text/plain": [
       "(torch.Size([228146, 3]), torch.Size([228146]))"
      ]
     },
     "execution_count": 122,
     "metadata": {},
     "output_type": "execute_result"
    }
   ],
   "source": [
    "X.shape, Y.shape"
   ]
  },
  {
   "cell_type": "code",
   "execution_count": 123,
   "metadata": {},
   "outputs": [],
   "source": [
    "# Summarizing our above approach\n",
    "g = torch.Generator().manual_seed(2147483647) # To generate same random numbers everytime\n",
    "\n",
    "C = torch.randn((27, 2), generator=g)\n",
    "\n",
    "W1 = torch.randn((6, 100), generator=g)\n",
    "b1 = torch.randn(100, generator=g)\n",
    "\n",
    "W2 = torch.randn((100, 27), generator=g)\n",
    "b2 = torch.randn(27, generator=g)\n",
    "\n",
    "parameters = [C, W1, b1, W2, b2]\n",
    "\n",
    "for p in parameters:\n",
    "    p.requires_grad = True"
   ]
  },
  {
   "cell_type": "code",
   "execution_count": null,
   "metadata": {},
   "outputs": [],
   "source": [
    "# Iterations...\n",
    "for _ in range(10000):\n",
    "    # minibatch\n",
    "    ix = torch.randint(0, X.shape[0], (1000,))\n",
    "\n",
    "    # Forward Pass\n",
    "    emb = C[X[ix]] # shape = (32, 3, 2)\n",
    "    hidden_layer = torch.tanh(emb.view(emb.shape[0], 6) @ W1 + b1) # shape = (32, 100)\n",
    "    logits = hidden_layer @ W2 + b2 # shape = (32, 27)\n",
    "\n",
    "    loss = F.cross_entropy(logits, Y[ix])\n",
    "    print(\"Loss: \", loss.item())\n",
    "\n",
    "    # Backward Pass\n",
    "    for p in parameters:\n",
    "        p.grad = None\n",
    "\n",
    "    loss.backward()\n",
    "\n",
    "    # Update\n",
    "    for p in parameters:\n",
    "        p.data += -0.1 * p.grad"
   ]
  },
  {
   "cell_type": "code",
   "execution_count": null,
   "metadata": {},
   "outputs": [],
   "source": [
    "## Finding a better learning rate\n",
    "learning_rates = torch.linspace(-3, 0, 1000)\n",
    "learning_rates = 10 ** learning_rates\n",
    "learning_rates"
   ]
  },
  {
   "cell_type": "code",
   "execution_count": 201,
   "metadata": {},
   "outputs": [],
   "source": [
    "# Summarizing our above approach\n",
    "g = torch.Generator().manual_seed(2147483647) # To generate same random numbers everytime\n",
    "\n",
    "C = torch.randn((27, 2), generator=g)\n",
    "\n",
    "W1 = torch.randn((6, 100), generator=g)\n",
    "b1 = torch.randn(100, generator=g)\n",
    "\n",
    "W2 = torch.randn((100, 27), generator=g)\n",
    "b2 = torch.randn(27, generator=g)\n",
    "\n",
    "parameters = [C, W1, b1, W2, b2]\n",
    "\n",
    "for p in parameters:\n",
    "    p.requires_grad = True"
   ]
  },
  {
   "cell_type": "code",
   "execution_count": null,
   "metadata": {},
   "outputs": [],
   "source": [
    "# Iterations...\n",
    "lri = []\n",
    "lossi = []\n",
    "\n",
    "for li in range(1000):\n",
    "    # minibatch\n",
    "    ix = torch.randint(0, X.shape[0], (32,))\n",
    "\n",
    "    # Forward Pass\n",
    "    emb = C[X[ix]] # shape = (32, 3, 2)\n",
    "    hidden_layer = torch.tanh(emb.view(emb.shape[0], 6) @ W1 + b1) # shape = (32, 100)\n",
    "    logits = hidden_layer @ W2 + b2 # shape = (32, 27)\n",
    "\n",
    "    loss = F.cross_entropy(logits, Y[ix])\n",
    "    print(\"Loss: \", loss.item())\n",
    "\n",
    "    # Backward Pass\n",
    "    for p in parameters:\n",
    "        p.grad = None\n",
    "\n",
    "    loss.backward()\n",
    "\n",
    "    # Update\n",
    "    for p in parameters:\n",
    "        p.data += -learning_rates[li] * p.grad\n",
    "    \n",
    "    lri.append(learning_rates[li].item())\n",
    "    lossi.append(loss.item())"
   ]
  },
  {
   "cell_type": "code",
   "execution_count": 203,
   "metadata": {},
   "outputs": [
    {
     "data": {
      "text/plain": [
       "[<matplotlib.lines.Line2D at 0x1211879d0>]"
      ]
     },
     "execution_count": 203,
     "metadata": {},
     "output_type": "execute_result"
    },
    {
     "data": {
      "image/png": "[encoded data removed]",
      "text/plain": [
       "<Figure size 640x480 with 1 Axes>"
      ]
     },
     "metadata": {},
     "output_type": "display_data"
    }
   ],
   "source": [
    "plt.plot(lri, lossi)\n",
    "#print(lossi)"
   ]
  },
  {
   "cell_type": "code",
   "execution_count": null,
   "metadata": {},
   "outputs": [],
   "source": [
    "# Hence we have a decent learning rate at 0.1"
   ]
  },
  {
   "cell_type": "code",
   "execution_count": 303,
   "metadata": {},
   "outputs": [],
   "source": [
    "# training split, dev/validation split, test split\n",
    "# 80%, 10%, 10%\n",
    "\n",
    "def build_dataset(words):\n",
    "    block_size = 3 # context length\n",
    "    X, Y = [], []\n",
    "\n",
    "    for w in words:\n",
    "        context = [0] * block_size\n",
    "        \n",
    "        for ch in w + '.':\n",
    "            ix = stoi[ch]\n",
    "            X.append(context)\n",
    "            Y.append(ix)\n",
    "            # print(''.join(itos[i] for i in context), '--->', itos[ix])\n",
    "\n",
    "            context = context[1:] + [ix] # crop the first latter and append the one ahead\n",
    "    \n",
    "    X = torch.tensor(X)\n",
    "    Y = torch.tensor(Y)\n",
    "\n",
    "    return X, Y\n",
    "\n",
    "\n",
    "import random\n",
    "random.seed(42)\n",
    "random.shuffle(words)\n",
    "\n",
    "n1 = int(0.8 * len(words))\n",
    "n2 = int(0.9 * len(words))\n",
    "\n",
    "Xtr, Ytr = build_dataset(words[:n1])\n",
    "Xdev, Ydev = build_dataset(words[n1:n2])\n",
    "Xtest, Ytest = build_dataset(words[n2:])\n"
   ]
  },
  {
   "cell_type": "code",
   "execution_count": 304,
   "metadata": {},
   "outputs": [
    {
     "data": {
      "text/plain": [
       "(torch.Size([182424, 3]), torch.Size([22836, 3]), torch.Size([22886, 3]))"
      ]
     },
     "execution_count": 304,
     "metadata": {},
     "output_type": "execute_result"
    }
   ],
   "source": [
    "Xtr.shape, Xdev.shape, Xtest.shape"
   ]
  },
  {
   "cell_type": "code",
   "execution_count": 310,
   "metadata": {},
   "outputs": [
    {
     "data": {
      "text/plain": [
       "3481"
      ]
     },
     "execution_count": 310,
     "metadata": {},
     "output_type": "execute_result"
    }
   ],
   "source": [
    "g = torch.Generator().manual_seed(2147483647) # To generate same random numbers everytime\n",
    "\n",
    "C = torch.randn((27, 2), generator=g)\n",
    "\n",
    "W1 = torch.randn((6, 100), generator=g)\n",
    "b1 = torch.randn(100, generator=g)\n",
    "\n",
    "W2 = torch.randn((100, 27), generator=g)\n",
    "b2 = torch.randn(27, generator=g)\n",
    "\n",
    "parameters = [C, W1, b1, W2, b2]\n",
    "\n",
    "for p in parameters:\n",
    "    p.requires_grad = True\n",
    "\n",
    "sum(p.nelement() for p in parameters)"
   ]
  },
  {
   "cell_type": "code",
   "execution_count": 311,
   "metadata": {},
   "outputs": [],
   "source": [
    "# Iterations...\n",
    "lri = []\n",
    "lossi = []\n",
    "stepi = []"
   ]
  },
  {
   "cell_type": "code",
   "execution_count": null,
   "metadata": {},
   "outputs": [],
   "source": [
    "for i in range(200000):\n",
    "    # minibatch\n",
    "    ix = torch.randint(0, Xtr.shape[0], (32,))\n",
    "\n",
    "    # Forward Pass\n",
    "    emb = C[Xtr[ix]] # shape = (32, 3, 2)\n",
    "    hidden_layer = torch.tanh(emb.view(emb.shape[0], 6) @ W1 + b1) # shape = (32, 100)\n",
    "    logits = hidden_layer @ W2 + b2 # shape = (32, 27)\n",
    "\n",
    "    loss = F.cross_entropy(logits, Ytr[ix])\n",
    "    print(\"Loss: \", loss.item())\n",
    "\n",
    "    # Backward Pass\n",
    "    for p in parameters:\n",
    "        p.grad = None\n",
    "\n",
    "    loss.backward()\n",
    "\n",
    "    # Update\n",
    "    lr = 0.01 if i < 100000 else 0.01\n",
    "    for p in parameters:\n",
    "        p.data += -lr * p.grad\n",
    "    \n",
    "    stepi.append(i)\n",
    "    lossi.append(loss.log10().item())"
   ]
  },
  {
   "cell_type": "code",
   "execution_count": 295,
   "metadata": {},
   "outputs": [
    {
     "data": {
      "text/plain": [
       "200000"
      ]
     },
     "execution_count": 295,
     "metadata": {},
     "output_type": "execute_result"
    },
    {
     "data": {
      "image/png": "[encoded data removed]",
      "text/plain": [
       "<Figure size 640x480 with 1 Axes>"
      ]
     },
     "metadata": {},
     "output_type": "display_data"
    }
   ],
   "source": [
    "plt.plot(stepi, lossi)\n",
    "len(lossi)"
   ]
  },
  {
   "cell_type": "code",
   "execution_count": null,
   "metadata": {},
   "outputs": [],
   "source": [
    "# Visualizing our 2d embeddings\n",
    "plt.figure(figsize=(8,8))\n",
    "plt.scatter(C[:, 0].data, C[:, 1].data, s=200)\n",
    "\n",
    "for i in range(C.shape[0]):\n",
    "    plt.text(C[i,0].item(), C[i,1].item(), itos[i], ha='center', va='center', color='white')\n",
    "\n",
    "plt.grid('minor')"
   ]
  },
  {
   "cell_type": "code",
   "execution_count": 316,
   "metadata": {},
   "outputs": [
    {
     "data": {
      "text/plain": [
       "tensor(2.8276, grad_fn=<NllLossBackward0>)"
      ]
     },
     "execution_count": 316,
     "metadata": {},
     "output_type": "execute_result"
    }
   ],
   "source": [
    "# Evaluating dev loss\n",
    "emb = C[Xdev] # shape = (len(Xdev[0]), 3, 2)\n",
    "hidden_layer = torch.tanh(emb.view(emb.shape[0], 6) @ W1 + b1) # shape = (len(Xdev[0]), 100)\n",
    "logits = hidden_layer @ W2 + b2 # shape = (len(Xdev[0]), 27)\n",
    "\n",
    "loss = F.cross_entropy(logits, Ydev)\n",
    "loss"
   ]
  },
  {
   "cell_type": "code",
   "execution_count": 318,
   "metadata": {},
   "outputs": [
    {
     "data": {
      "text/plain": [
       "['aynecrknts',\n",
       " 'ila',\n",
       " 'lla',\n",
       " 'aodairnvcnybai',\n",
       " 'ayaeeaisiaoedmamavwnaeaanaaesyna',\n",
       " 'akh',\n",
       " 'rhijymnaayruhy',\n",
       " '',\n",
       " 'slinlciikda',\n",
       " 'a',\n",
       " 'mma',\n",
       " 'els',\n",
       " 'keenal',\n",
       " 'a',\n",
       " 'eyn',\n",
       " '',\n",
       " 'ey',\n",
       " 'ajaa',\n",
       " 'marniua',\n",
       " 'rscak']"
      ]
     },
     "execution_count": 318,
     "metadata": {},
     "output_type": "execute_result"
    }
   ],
   "source": [
    "# Sampling words\n",
    "\n",
    "result = []\n",
    "\n",
    "for _ in range(20):\n",
    "    block = [0] * block_size\n",
    "    pred_word = []\n",
    "    while True:\n",
    "        Xt = torch.tensor([block])\n",
    "\n",
    "        # Forward Pass\n",
    "        embed = C[Xt] # shape = (1, 3, 2)\n",
    "        hidden_layer = torch.tanh(embed.view(embed.shape[0], 6) @ W1 + b1) # shape = (32, 100)\n",
    "        logits = hidden_layer @ W2 + b2 # shape = (32, 27)\n",
    "\n",
    "        counts = torch.exp(logits)\n",
    "        prob = counts / counts.sum(1, keepdims=True)\n",
    "\n",
    "        pred_target = torch.multinomial(prob, num_samples=1, replacement=True, generator=g)\n",
    "        pred_character = itos[pred_target.item()]\n",
    "        # print(pred_character)\n",
    "\n",
    "        if pred_character == '.':\n",
    "            break\n",
    "\n",
    "        pred_word.append(pred_character)\n",
    "        block = block[1:] + [pred_target.item()]\n",
    "\n",
    "    result.append(''.join(pred_word))\n",
    "\n",
    "result\n",
    "\n",
    "\n"
   ]
  }
 ],
 "metadata": {
  "kernelspec": {
   "display_name": "saurav-env",
   "language": "python",
   "name": "python3"
  },
  "language_info": {
   "codemirror_mode": {
    "name": "ipython",
    "version": 3
   },
   "file_extension": ".py",
   "mimetype": "text/x-python",
   "name": "python",
   "nbconvert_exporter": "python",
   "pygments_lexer": "ipython3",
   "version": "3.13.1"
  }
 },
 "nbformat": 4,
 "nbformat_minor": 2
}
